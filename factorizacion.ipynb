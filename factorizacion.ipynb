{
 "cells": [
  {
   "cell_type": "code",
   "execution_count": 1,
   "metadata": {},
   "outputs": [],
   "source": [
    "from sympy import symbols, factor, init_printing, limit\n",
    "x, y, z, a, b, t, s, r = symbols('x y z a b t s r')\n",
    "#init_printing()"
   ]
  },
  {
   "cell_type": "markdown",
   "metadata": {},
   "source": [
    "# Factorización"
   ]
  },
  {
   "attachments": {
    "Capture.PNG": {
     "image/png": "[encoded data removed]"
    }
   },
   "cell_type": "markdown",
   "metadata": {},
   "source": [
    ">__Factorización__: En matemáticas, la factorización es una técnica que consiste en la descomposición de una expresión matemática (que puede ser un número, una suma, una resta, una matriz, un polinomio, etc.) en forma de producto.\n",
    "Teorema General del Álgebra: establece que todo polinomio de grado mayor que cero tiene una raíz. Por lo tanto, todo polinomio es factorizable si se utilizan números reales si dentro de éstos incluimos los números complejos.<br><br>\n",
    "__Polinomio__: es una expresión algebraica constituida por una suma finita de productos entre variables (valores no determinados o desconocidos) y constantes (números fijos llamados coeficientes), o bien una sola variable. Las variables pueden tener exponentes de valores definidos naturales incluido el cero y cuyo valor máximo se conocerá como grado del polinomio.<br><br>\n",
    "![Capture.PNG](attachment:Capture.PNG)\n",
    "En la figura se observa un cuadrado, compuesto de cuatro cuadriláteros, si se consideran la medidas de sus lados respectivos con las letras a y b, cada una de sus áreas se expresan como polinomios: $a^2,ab,b^2$. El área del cuadrado principal sería: ____________. <br><br>\n",
    ">> ## Caso 1 de Factorización (diferencia de cuadrados)\n",
    ">>$$ A^2-B^2=(A-B)(A+B)$$\n",
    ">> - Ejemplo 1: $16x^2-81y^2$<br>\n",
    ">> La raíz de $\\sqrt{16x^2}=4x$<br>\n",
    ">> La raíz de $\\sqrt{81y^2}=9y$"
   ]
  },
  {
   "cell_type": "code",
   "execution_count": 2,
   "metadata": {},
   "outputs": [
    {
     "data": {
      "text/latex": [
       "$\\displaystyle \\left(4 x - 9 y\\right) \\left(4 x + 9 y\\right)$"
      ],
      "text/plain": [
       "(4*x - 9*y)*(4*x + 9*y)"
      ]
     },
     "execution_count": 2,
     "metadata": {},
     "output_type": "execute_result"
    }
   ],
   "source": [
    "factor(16*x**2 - 81*y**2)"
   ]
  },
  {
   "cell_type": "markdown",
   "metadata": {},
   "source": [
    ">> - Ejemplo 2: $4x^2-25$<br>\n",
    ">> La raíz de $\\sqrt{4x^2}=2x$<br>\n",
    ">> La raíz de $\\sqrt{25}=5$<br>"
   ]
  },
  {
   "cell_type": "code",
   "execution_count": 3,
   "metadata": {},
   "outputs": [
    {
     "data": {
      "text/latex": [
       "$\\displaystyle \\left(2 x - 5\\right) \\left(2 x + 5\\right)$"
      ],
      "text/plain": [
       "(2*x - 5)*(2*x + 5)"
      ]
     },
     "execution_count": 3,
     "metadata": {},
     "output_type": "execute_result"
    }
   ],
   "source": [
    "factor(4*x**2-25)"
   ]
  },
  {
   "cell_type": "markdown",
   "metadata": {},
   "source": [
    " >> ## Caso 2: Trinomio Cuadrado Perfecto\n",
    " >>$$A^2+2AB+B^2=(A+B)^2$$\n",
    " >>$$A^2-2AB+B^2=(A-B)^2$$\n",
    ">>Para verificar si es un trinomio cuadrado perfecto se siguen los siguientes pasos:\n",
    ">>1. Se obtiene la raiz cuadrada de los terminos $A$ y $B$ \n",
    ">>2. Se comprueba que $2AB$ sea igual al termino del medio.\n",
    ">>3. Se disponen los terminos $(A+B)^2$ o $(A-B)^2$, según sea el caso<br><br>\n",
    ">> Ejemplo 1: $4x^2-4xy+y^2$<br>\n",
    ">> $\\sqrt{4x^2}=2x, \\sqrt{y^2}=y$;\n",
    ">> tenemos que: $A=2x$ y $B=y$, de modo que $2AB=2(2x)(y)=4xy$, coincidiendo con el termino de la mitad,por lo tanto es un __trinomio cuadrado perfecto__."
   ]
  },
  {
   "cell_type": "markdown",
   "metadata": {},
   "source": [
    "Solución"
   ]
  },
  {
   "cell_type": "code",
   "execution_count": 4,
   "metadata": {},
   "outputs": [
    {
     "data": {
      "text/latex": [
       "$\\displaystyle \\left(2 x - y\\right)^{2}$"
      ],
      "text/plain": [
       "(2*x - y)**2"
      ]
     },
     "execution_count": 4,
     "metadata": {},
     "output_type": "execute_result"
    }
   ],
   "source": [
    "factor(4*x**2-4*x*y+y**2)"
   ]
  },
  {
   "cell_type": "markdown",
   "metadata": {},
   "source": [
    ">> - Ejemplo2: $25+10xy+x^2y^2$ <br>\n",
    ">> $A=5$ y $B=xy$, comprobando $2AB=2(5)(xy)=10xy$"
   ]
  },
  {
   "cell_type": "markdown",
   "metadata": {},
   "source": [
    "Solución"
   ]
  },
  {
   "cell_type": "code",
   "execution_count": 5,
   "metadata": {},
   "outputs": [
    {
     "data": {
      "text/latex": [
       "$\\displaystyle \\left(x y + 5\\right)^{2}$"
      ],
      "text/plain": [
       "(x*y + 5)**2"
      ]
     },
     "execution_count": 5,
     "metadata": {},
     "output_type": "execute_result"
    }
   ],
   "source": [
    "factor(25+10*x*y+x**2*y**2)"
   ]
  },
  {
   "cell_type": "markdown",
   "metadata": {},
   "source": [
    ">> ## Caso 3: Diferencia de cubos\n",
    "$$A^3-B^3=(A-B)(A^2+AB+B^2)$$\n",
    "Para verificar se hallan las raíces cúbicas de $A$ y $B$ y se reemplazan en la fórmula.\n",
    "- Ejemplo 1: $27x^3-1$<br>\n",
    ">> Se tiene: $A=\\sqrt[3]{27x^3}=3x; B=\\sqrt[3]{1}=1$<br>\n",
    ">> $(3x-1)((3x)^2+(3x)(1)+(1)^2)$"
   ]
  },
  {
   "cell_type": "markdown",
   "metadata": {},
   "source": [
    "Solución"
   ]
  },
  {
   "cell_type": "code",
   "execution_count": 6,
   "metadata": {},
   "outputs": [
    {
     "data": {
      "text/latex": [
       "$\\displaystyle \\left(3 x - 1\\right) \\left(9 x^{2} + 3 x + 1\\right)$"
      ],
      "text/plain": [
       "(3*x - 1)*(9*x**2 + 3*x + 1)"
      ]
     },
     "execution_count": 6,
     "metadata": {},
     "output_type": "execute_result"
    }
   ],
   "source": [
    "factor(27*x**3-1)"
   ]
  },
  {
   "cell_type": "markdown",
   "metadata": {},
   "source": [
    ">> - Ejemplo2: $8x^3-125y^3$<br>\n",
    ">> Se tiene: $A=\\sqrt[3]{8x^3}=2x; B=\\sqrt[3]{125y^3}=5y$<br>\n",
    ">> $(2x-5y)((2x)^2+(2x)(5y)+(5y)^2)$"
   ]
  },
  {
   "cell_type": "markdown",
   "metadata": {},
   "source": [
    "Solucion"
   ]
  },
  {
   "cell_type": "code",
   "execution_count": 7,
   "metadata": {},
   "outputs": [
    {
     "data": {
      "text/latex": [
       "$\\displaystyle \\left(2 x - 5 y\\right) \\left(4 x^{2} + 10 x y + 25 y^{2}\\right)$"
      ],
      "text/plain": [
       "(2*x - 5*y)*(4*x**2 + 10*x*y + 25*y**2)"
      ]
     },
     "execution_count": 7,
     "metadata": {},
     "output_type": "execute_result"
    }
   ],
   "source": [
    "factor(8*x**3 - 125*y**3)"
   ]
  },
  {
   "cell_type": "markdown",
   "metadata": {},
   "source": [
    ">> ## Caso 4: Suma de Cubos\n",
    "$$A^3+B^3=(A+B)(A^2-AB+B^2)$$\n",
    ">>Se procede igual que con la diferencia de cubos, teniendo en cuenta que en el segundo termino el segundo factor es de signo negativo\n",
    "- Ejemplo 1: $1+1000y^3$<br>\n",
    ">> Se tiene que: $\\sqrt[3]{1}=1;\\sqrt[3]{1000y^3}=10y$<br>\n",
    ">>$(1+10y)(1^2-(1)(10y)+(10y)^2)$"
   ]
  },
  {
   "cell_type": "markdown",
   "metadata": {},
   "source": [
    "Solución"
   ]
  },
  {
   "cell_type": "code",
   "execution_count": 8,
   "metadata": {},
   "outputs": [
    {
     "data": {
      "text/latex": [
       "$\\displaystyle \\left(10 y + 1\\right) \\left(100 y^{2} - 10 y + 1\\right)$"
      ],
      "text/plain": [
       "(10*y + 1)*(100*y**2 - 10*y + 1)"
      ]
     },
     "execution_count": 8,
     "metadata": {},
     "output_type": "execute_result"
    }
   ],
   "source": [
    "factor(1+1000*y**3)"
   ]
  },
  {
   "cell_type": "markdown",
   "metadata": {},
   "source": [
    ">> Los terminos se reordenan para que la presentación de la expresión sea mas \"elegante\" matemáticamente, se hace en el siguiente orden: de mayor a menor grado los terminos con variable  y por último el término independiente o constante.\n",
    ">> ## Caso 5: factorización por factores comunes\n",
    ">> En este caso en particular se hallan los factores comunes de todos los terminos que compartan la misma variable y luego los factores comunes de todos los coeficientes, para hallar el máximo factor común.<br><br>\n",
    ">> - Ejemplo 1: $3x^2-6x$ <br>\n",
    ">> Factor común de $3x^2$ y $6x$, es $3x$"
   ]
  },
  {
   "cell_type": "markdown",
   "metadata": {},
   "source": [
    "Solución"
   ]
  },
  {
   "cell_type": "code",
   "execution_count": 9,
   "metadata": {},
   "outputs": [
    {
     "data": {
      "text/latex": [
       "$\\displaystyle 3 x \\left(x - 2\\right)$"
      ],
      "text/plain": [
       "3*x*(x - 2)"
      ]
     },
     "execution_count": 9,
     "metadata": {},
     "output_type": "execute_result"
    }
   ],
   "source": [
    "factor(3*x**2-6*x)"
   ]
  },
  {
   "cell_type": "markdown",
   "metadata": {},
   "source": [
    ">> - Ejemplo 2: $8x^4 y^2+6x^3 y^3-2xy^4$<br>\n",
    ">> Factor de $x^4, x^3, x$ es $x$ <br>\n",
    ">> Factor de $y^2, y^3, y^4$ es $y^2$<br>\n",
    ">> Factor de $8,6,2$ es $2$, por lo tanto, el factor común a los tres terminos es $2xy^2$:"
   ]
  },
  {
   "cell_type": "markdown",
   "metadata": {},
   "source": [
    "Solución"
   ]
  },
  {
   "cell_type": "code",
   "execution_count": 10,
   "metadata": {},
   "outputs": [
    {
     "data": {
      "text/latex": [
       "$\\displaystyle 2 x y^{2} \\left(4 x^{3} + 3 x^{2} y - y^{2}\\right)$"
      ],
      "text/plain": [
       "2*x*y**2*(4*x**3 + 3*x**2*y - y**2)"
      ]
     },
     "execution_count": 10,
     "metadata": {},
     "output_type": "execute_result"
    }
   ],
   "source": [
    "factor(8*x**4*y**2 + 6*x**3*y**3 - 2*x*y**4)"
   ]
  },
  {
   "cell_type": "markdown",
   "metadata": {},
   "source": [
    ">> ## Caso 6: Factorizacion de la forma $x^2 + Bx + C$\n",
    "Se buscan dos números que sumados den $B$  y multiplicados den $C$:\n",
    ">> - Ejemplo 1: $x^2 + 7x + 12$, debemos buscar dos números que sumados den 7 y multiplicados den 12:"
   ]
  },
  {
   "cell_type": "markdown",
   "metadata": {},
   "source": [
    "Respuesta"
   ]
  },
  {
   "cell_type": "code",
   "execution_count": 11,
   "metadata": {},
   "outputs": [
    {
     "data": {
      "text/latex": [
       "$\\displaystyle \\left(x + 3\\right) \\left(x + 4\\right)$"
      ],
      "text/plain": [
       "(x + 3)*(x + 4)"
      ]
     },
     "execution_count": 11,
     "metadata": {},
     "output_type": "execute_result"
    }
   ],
   "source": [
    "factor(x**2+7*x+12)"
   ]
  },
  {
   "cell_type": "markdown",
   "metadata": {},
   "source": [
    ">> - Ejemplo 2: $x^2 - 6x + 5$, dos numeros que sumados den $-6$ y multiplicados den $5$"
   ]
  },
  {
   "cell_type": "markdown",
   "metadata": {},
   "source": [
    "Respuesta"
   ]
  },
  {
   "cell_type": "code",
   "execution_count": 12,
   "metadata": {},
   "outputs": [
    {
     "data": {
      "text/latex": [
       "$\\displaystyle \\left(x - 5\\right) \\left(x - 1\\right)$"
      ],
      "text/plain": [
       "(x - 5)*(x - 1)"
      ]
     },
     "execution_count": 12,
     "metadata": {},
     "output_type": "execute_result"
    }
   ],
   "source": [
    "factor(x**2-6*x+5)"
   ]
  },
  {
   "cell_type": "markdown",
   "metadata": {},
   "source": [
    ">> ## Caso 7: Trinomio de la forma $Ax^2 + Bx + C$\n",
    "Debemos hallar dos números $p, q$ que multiplicados den $A$; dos números $r, s$ que multiplicados den $C$; de manera que $ps+qr=B$. <br>\n",
    ">> Ejemplo 1: $6x^2 + 7x -5$, dos números que multiplicados den $A$ pueden ser $6*1,3*2$ y dos números que multiplicados sean $-5$, pueden ser $-5*1,5*-1$, escogiendo por prueba y error tenemos:\n",
    "$$=(3x + 5)(2x - 1)$$\n",
    ">>Comprobamos si $ps+qr=B$, es decir $=7$:<br>\n",
    ">>$(3)(-1)+(5)(2)= -3+10=7$, por lo tanto, los factores escogidos factorizan la expresión."
   ]
  },
  {
   "cell_type": "markdown",
   "metadata": {},
   "source": [
    "Comprobación"
   ]
  },
  {
   "cell_type": "code",
   "execution_count": 13,
   "metadata": {},
   "outputs": [
    {
     "data": {
      "text/latex": [
       "$\\displaystyle \\left(2 x - 1\\right) \\left(3 x + 5\\right)$"
      ],
      "text/plain": [
       "(2*x - 1)*(3*x + 5)"
      ]
     },
     "execution_count": 13,
     "metadata": {},
     "output_type": "execute_result"
    }
   ],
   "source": [
    "factor(6*x**2+7*x-5 )"
   ]
  },
  {
   "attachments": {
    "caso_factorizacion.PNG": {
     "image/png": "[encoded data removed]"
    }
   },
   "cell_type": "markdown",
   "metadata": {},
   "source": [
    ">> __Nota__: existe un método alternativo para factorizar este tipo de polinomios multiplicando y dividiendo todo el polinomio por el coeficiente A y luego factorizando la expresión resultante.[AulaFacil.com](https://www.aulafacil.com/cursos/matematicas/algebra/trinomio-cuadrado-de-la-forma-ax2-bx-c-l10953)\n",
    "![caso_factorizacion.PNG](attachment:caso_factorizacion.PNG)\n",
    ">>## Caso 8:Factorización por agrupación de terminos\n",
    "Algunos polinomios pueden factorizarse por dos o más términos:<br>\n",
    ">>\t$x^3+x^2+4x+4\t\t=(x^3+x^2 )+(4x+4)$, se agrupan los términos<br>\n",
    "$=x^2 (x+1)+4(x+1)$, se hallan los factores comunes de cada agrupación<br>\n",
    "$=(x+1)(x^2+4)$, se factoriza x+1, de cada termino.\n"
   ]
  },
  {
   "cell_type": "markdown",
   "metadata": {},
   "source": [
    "Comprobación"
   ]
  },
  {
   "cell_type": "code",
   "execution_count": 14,
   "metadata": {},
   "outputs": [
    {
     "data": {
      "text/latex": [
       "$\\displaystyle \\left(x + 1\\right) \\left(x^{2} + 4\\right)$"
      ],
      "text/plain": [
       "(x + 1)*(x**2 + 4)"
      ]
     },
     "execution_count": 14,
     "metadata": {},
     "output_type": "execute_result"
    }
   ],
   "source": [
    "factor(x**3 + x**2 + 4*x + 4)"
   ]
  },
  {
   "cell_type": "markdown",
   "metadata": {},
   "source": [
    "> ## Ejercicios\n",
    "> 61. $-2x^3+16x$"
   ]
  },
  {
   "cell_type": "markdown",
   "metadata": {
    "solution2": "shown",
    "solution2_first": true
   },
   "source": [
    ">Respuesta"
   ]
  },
  {
   "cell_type": "code",
   "execution_count": 15,
   "metadata": {
    "scrolled": true,
    "solution2": "shown"
   },
   "outputs": [
    {
     "data": {
      "text/latex": [
       "$\\displaystyle - 2 x \\left(x^{2} - 8\\right)$"
      ],
      "text/plain": [
       "-2*x*(x**2 - 8)"
      ]
     },
     "execution_count": 15,
     "metadata": {},
     "output_type": "execute_result"
    }
   ],
   "source": [
    "factor(-2*x**3+16*x)"
   ]
  },
  {
   "cell_type": "markdown",
   "metadata": {},
   "source": [
    ">62. $2x^4+4x^3-14x^2$"
   ]
  },
  {
   "cell_type": "markdown",
   "metadata": {
    "solution2": "hidden",
    "solution2_first": true
   },
   "source": [
    ">Respuesta"
   ]
  },
  {
   "cell_type": "code",
   "execution_count": 16,
   "metadata": {
    "solution2": "hidden"
   },
   "outputs": [
    {
     "data": {
      "text/latex": [
       "$\\displaystyle 2 x^{2} \\left(x^{2} + 2 x - 7\\right)$"
      ],
      "text/plain": [
       "2*x**2*(x**2 + 2*x - 7)"
      ]
     },
     "execution_count": 16,
     "metadata": {},
     "output_type": "execute_result"
    }
   ],
   "source": [
    "factor(2*x**4 + 4*x**3 - 14*x**2)"
   ]
  },
  {
   "cell_type": "markdown",
   "metadata": {},
   "source": [
    ">63. $y(y-6)+9(y-6)$"
   ]
  },
  {
   "cell_type": "markdown",
   "metadata": {
    "solution2": "shown",
    "solution2_first": true
   },
   "source": [
    ">Respuesta"
   ]
  },
  {
   "cell_type": "code",
   "execution_count": 19,
   "metadata": {
    "solution2": "shown"
   },
   "outputs": [
    {
     "data": {
      "text/latex": [
       "$\\displaystyle \\left(y - 6\\right) \\left(y + 9\\right)$"
      ],
      "text/plain": [
       "(y - 6)*(y + 9)"
      ]
     },
     "execution_count": 19,
     "metadata": {},
     "output_type": "execute_result"
    }
   ],
   "source": [
    "factor(y*(y-6)+9*(y-6))"
   ]
  },
  {
   "cell_type": "markdown",
   "metadata": {},
   "source": [
    ">64. $(z+2)^2 - 5(z+2)$"
   ]
  },
  {
   "cell_type": "markdown",
   "metadata": {
    "solution2": "hidden",
    "solution2_first": true
   },
   "source": [
    ">Respuesta"
   ]
  },
  {
   "cell_type": "code",
   "execution_count": 21,
   "metadata": {
    "solution2": "hidden"
   },
   "outputs": [
    {
     "data": {
      "text/latex": [
       "$\\displaystyle \\left(z - 3\\right) \\left(z + 2\\right)$"
      ],
      "text/plain": [
       "(z - 3)*(z + 2)"
      ]
     },
     "execution_count": 21,
     "metadata": {},
     "output_type": "execute_result"
    }
   ],
   "source": [
    "factor((z+2)**2-5*(z+2))"
   ]
  },
  {
   "cell_type": "markdown",
   "metadata": {},
   "source": [
    ">67. $x^2+2x-3$"
   ]
  },
  {
   "cell_type": "markdown",
   "metadata": {
    "solution2": "hidden",
    "solution2_first": true
   },
   "source": [
    "Respuesta"
   ]
  },
  {
   "cell_type": "code",
   "execution_count": 22,
   "metadata": {
    "solution2": "hidden"
   },
   "outputs": [
    {
     "data": {
      "text/latex": [
       "$\\displaystyle \\left(x - 1\\right) \\left(x + 3\\right)$"
      ],
      "text/plain": [
       "(x - 1)*(x + 3)"
      ]
     },
     "execution_count": 22,
     "metadata": {},
     "output_type": "execute_result"
    }
   ],
   "source": [
    "factor(x**2+2*x-3)"
   ]
  },
  {
   "cell_type": "markdown",
   "metadata": {},
   "source": [
    ">68. $x^2-6x+5$"
   ]
  },
  {
   "cell_type": "markdown",
   "metadata": {
    "solution2": "hidden",
    "solution2_first": true
   },
   "source": [
    "Respuesta"
   ]
  },
  {
   "cell_type": "code",
   "execution_count": 23,
   "metadata": {
    "solution2": "hidden"
   },
   "outputs": [
    {
     "data": {
      "text/latex": [
       "$\\displaystyle \\left(x - 5\\right) \\left(x - 1\\right)$"
      ],
      "text/plain": [
       "(x - 5)*(x - 1)"
      ]
     },
     "execution_count": 23,
     "metadata": {},
     "output_type": "execute_result"
    }
   ],
   "source": [
    "factor(x**2-6*x+5)"
   ]
  },
  {
   "cell_type": "markdown",
   "metadata": {},
   "source": [
    ">69. $8x^2-14x-15$"
   ]
  },
  {
   "cell_type": "markdown",
   "metadata": {
    "solution2": "hidden",
    "solution2_first": true
   },
   "source": [
    "Respuesta"
   ]
  },
  {
   "cell_type": "code",
   "execution_count": 24,
   "metadata": {
    "solution2": "hidden"
   },
   "outputs": [
    {
     "data": {
      "text/latex": [
       "$\\displaystyle \\left(2 x - 5\\right) \\left(4 x + 3\\right)$"
      ],
      "text/plain": [
       "(2*x - 5)*(4*x + 3)"
      ]
     },
     "execution_count": 24,
     "metadata": {},
     "output_type": "execute_result"
    }
   ],
   "source": [
    "factor(8*x**2-14*x-15)"
   ]
  },
  {
   "cell_type": "markdown",
   "metadata": {},
   "source": [
    ">70. $6y^2+11y-21$"
   ]
  },
  {
   "cell_type": "markdown",
   "metadata": {
    "solution2": "hidden",
    "solution2_first": true
   },
   "source": [
    "Respuesta"
   ]
  },
  {
   "cell_type": "code",
   "execution_count": 25,
   "metadata": {
    "solution2": "hidden"
   },
   "outputs": [
    {
     "data": {
      "text/latex": [
       "$\\displaystyle \\left(y + 3\\right) \\left(6 y - 7\\right)$"
      ],
      "text/plain": [
       "(y + 3)*(6*y - 7)"
      ]
     },
     "execution_count": 25,
     "metadata": {},
     "output_type": "execute_result"
    }
   ],
   "source": [
    "factor(6*y**2+11*y-21)"
   ]
  },
  {
   "cell_type": "markdown",
   "metadata": {},
   "source": [
    ">83. $x^3+4x^2+x+4$"
   ]
  },
  {
   "cell_type": "markdown",
   "metadata": {
    "solution2": "hidden",
    "solution2_first": true
   },
   "source": [
    "Respuesta"
   ]
  },
  {
   "cell_type": "code",
   "execution_count": 26,
   "metadata": {
    "solution2": "hidden"
   },
   "outputs": [
    {
     "data": {
      "text/latex": [
       "$\\displaystyle \\left(x + 4\\right) \\left(x^{2} + 1\\right)$"
      ],
      "text/plain": [
       "(x + 4)*(x**2 + 1)"
      ]
     },
     "execution_count": 26,
     "metadata": {},
     "output_type": "execute_result"
    }
   ],
   "source": [
    "factor(x**3+4*x**2+x+4)"
   ]
  },
  {
   "cell_type": "markdown",
   "metadata": {},
   "source": [
    ">84. $3x^3-x^2+6x-2$"
   ]
  },
  {
   "cell_type": "markdown",
   "metadata": {
    "solution2": "hidden",
    "solution2_first": true
   },
   "source": [
    "Respuesta"
   ]
  },
  {
   "cell_type": "code",
   "execution_count": 27,
   "metadata": {
    "solution2": "hidden"
   },
   "outputs": [
    {
     "data": {
      "text/latex": [
       "$\\displaystyle \\left(3 x - 1\\right) \\left(x^{2} + 2\\right)$"
      ],
      "text/plain": [
       "(3*x - 1)*(x**2 + 2)"
      ]
     },
     "execution_count": 27,
     "metadata": {},
     "output_type": "execute_result"
    }
   ],
   "source": [
    "factor(3*x**3-x**2+6*x-2)"
   ]
  },
  {
   "cell_type": "markdown",
   "metadata": {},
   "source": [
    ">85. $2x^3+x^2-6x-3$"
   ]
  },
  {
   "cell_type": "markdown",
   "metadata": {
    "solution2": "hidden",
    "solution2_first": true
   },
   "source": [
    "Respuesta"
   ]
  },
  {
   "cell_type": "code",
   "execution_count": 28,
   "metadata": {
    "solution2": "hidden"
   },
   "outputs": [
    {
     "data": {
      "text/latex": [
       "$\\displaystyle \\left(2 x + 1\\right) \\left(x^{2} - 3\\right)$"
      ],
      "text/plain": [
       "(2*x + 1)*(x**2 - 3)"
      ]
     },
     "execution_count": 28,
     "metadata": {},
     "output_type": "execute_result"
    }
   ],
   "source": [
    "factor(2*x**3+x**2-6*x-3)"
   ]
  },
  {
   "cell_type": "markdown",
   "metadata": {},
   "source": [
    ">86. $-9x^3-3x^2+3x+1$"
   ]
  },
  {
   "cell_type": "markdown",
   "metadata": {
    "solution2": "hidden",
    "solution2_first": true
   },
   "source": [
    "Respuesta"
   ]
  },
  {
   "cell_type": "code",
   "execution_count": 29,
   "metadata": {
    "solution2": "hidden"
   },
   "outputs": [
    {
     "data": {
      "text/latex": [
       "$\\displaystyle - \\left(3 x + 1\\right) \\left(3 x^{2} - 1\\right)$"
      ],
      "text/plain": [
       "-(3*x + 1)*(3*x**2 - 1)"
      ]
     },
     "execution_count": 29,
     "metadata": {},
     "output_type": "execute_result"
    }
   ],
   "source": [
    "factor(-9*x**3-3*x**2+3*x+1)"
   ]
  },
  {
   "cell_type": "markdown",
   "metadata": {},
   "source": [
    ">75. $9a^2-16$"
   ]
  },
  {
   "cell_type": "markdown",
   "metadata": {
    "solution2": "hidden",
    "solution2_first": true
   },
   "source": [
    "Respuesta"
   ]
  },
  {
   "cell_type": "code",
   "execution_count": 31,
   "metadata": {
    "solution2": "hidden"
   },
   "outputs": [
    {
     "data": {
      "text/latex": [
       "$\\displaystyle \\left(3 a - 4\\right) \\left(3 a + 4\\right)$"
      ],
      "text/plain": [
       "(3*a - 4)*(3*a + 4)"
      ]
     },
     "execution_count": 31,
     "metadata": {},
     "output_type": "execute_result"
    }
   ],
   "source": [
    "factor(9*a**2-16)"
   ]
  },
  {
   "cell_type": "markdown",
   "metadata": {},
   "source": [
    ">76. $(x+3)^2-4$"
   ]
  },
  {
   "cell_type": "markdown",
   "metadata": {
    "solution2": "hidden",
    "solution2_first": true
   },
   "source": [
    "Respuesta"
   ]
  },
  {
   "cell_type": "code",
   "execution_count": 32,
   "metadata": {
    "solution2": "hidden"
   },
   "outputs": [
    {
     "data": {
      "text/latex": [
       "$\\displaystyle \\left(x + 1\\right) \\left(x + 5\\right)$"
      ],
      "text/plain": [
       "(x + 1)*(x + 5)"
      ]
     },
     "execution_count": 32,
     "metadata": {},
     "output_type": "execute_result"
    }
   ],
   "source": [
    "factor((x+3)**2-4)"
   ]
  },
  {
   "cell_type": "markdown",
   "metadata": {},
   "source": [
    ">77. $27x^3+y^3$"
   ]
  },
  {
   "cell_type": "markdown",
   "metadata": {
    "solution2": "hidden",
    "solution2_first": true
   },
   "source": [
    "Respuesta"
   ]
  },
  {
   "cell_type": "code",
   "execution_count": 33,
   "metadata": {
    "solution2": "hidden"
   },
   "outputs": [
    {
     "data": {
      "text/latex": [
       "$\\displaystyle \\left(3 x + y\\right) \\left(9 x^{2} - 3 x y + y^{2}\\right)$"
      ],
      "text/plain": [
       "(3*x + y)*(9*x**2 - 3*x*y + y**2)"
      ]
     },
     "execution_count": 33,
     "metadata": {},
     "output_type": "execute_result"
    }
   ],
   "source": [
    "factor(27*x**3+y**3)"
   ]
  },
  {
   "cell_type": "markdown",
   "metadata": {},
   "source": [
    ">78. $a^3-b^6$"
   ]
  },
  {
   "cell_type": "markdown",
   "metadata": {
    "solution2": "hidden",
    "solution2_first": true
   },
   "source": [
    "Respuesta"
   ]
  },
  {
   "cell_type": "code",
   "execution_count": 35,
   "metadata": {
    "solution2": "hidden"
   },
   "outputs": [
    {
     "data": {
      "text/latex": [
       "$\\displaystyle \\left(a - b^{2}\\right) \\left(a^{2} + a b^{2} + b^{4}\\right)$"
      ],
      "text/plain": [
       "(a - b**2)*(a**2 + a*b**2 + b**4)"
      ]
     },
     "execution_count": 35,
     "metadata": {},
     "output_type": "execute_result"
    }
   ],
   "source": [
    "factor(a**3-b**6)"
   ]
  },
  {
   "cell_type": "markdown",
   "metadata": {},
   "source": [
    ">95. $12x^3+18x$"
   ]
  },
  {
   "cell_type": "markdown",
   "metadata": {
    "solution2": "hidden",
    "solution2_first": true
   },
   "source": [
    "Respuesta"
   ]
  },
  {
   "cell_type": "code",
   "execution_count": 36,
   "metadata": {
    "solution2": "hidden"
   },
   "outputs": [
    {
     "data": {
      "text/latex": [
       "$\\displaystyle 6 x \\left(2 x^{2} + 3\\right)$"
      ],
      "text/plain": [
       "6*x*(2*x**2 + 3)"
      ]
     },
     "execution_count": 36,
     "metadata": {},
     "output_type": "execute_result"
    }
   ],
   "source": [
    "factor(12*x**3+18*x)"
   ]
  },
  {
   "cell_type": "markdown",
   "metadata": {},
   "source": [
    ">96. $30x^3+15x^4$"
   ]
  },
  {
   "cell_type": "markdown",
   "metadata": {
    "solution2": "hidden",
    "solution2_first": true
   },
   "source": [
    "Respuesta"
   ]
  },
  {
   "cell_type": "code",
   "execution_count": 37,
   "metadata": {
    "solution2": "hidden"
   },
   "outputs": [
    {
     "data": {
      "text/latex": [
       "$\\displaystyle 15 x^{3} \\left(x + 2\\right)$"
      ],
      "text/plain": [
       "15*x**3*(x + 2)"
      ]
     },
     "execution_count": 37,
     "metadata": {},
     "output_type": "execute_result"
    }
   ],
   "source": [
    "factor(30*x**3+15*x**4)"
   ]
  },
  {
   "cell_type": "markdown",
   "metadata": {},
   "source": [
    ">97. $x^2-2x-8$"
   ]
  },
  {
   "cell_type": "markdown",
   "metadata": {
    "solution2": "hidden",
    "solution2_first": true
   },
   "source": [
    "Respuesta"
   ]
  },
  {
   "cell_type": "code",
   "execution_count": 38,
   "metadata": {
    "solution2": "hidden"
   },
   "outputs": [
    {
     "data": {
      "text/latex": [
       "$\\displaystyle \\left(x - 4\\right) \\left(x + 2\\right)$"
      ],
      "text/plain": [
       "(x - 4)*(x + 2)"
      ]
     },
     "execution_count": 38,
     "metadata": {},
     "output_type": "execute_result"
    }
   ],
   "source": [
    "factor(x**2-2*x-8)"
   ]
  },
  {
   "cell_type": "markdown",
   "metadata": {},
   "source": [
    ">98. $x^2-14x+48$"
   ]
  },
  {
   "cell_type": "markdown",
   "metadata": {
    "solution2": "hidden",
    "solution2_first": true
   },
   "source": [
    "Respuesta"
   ]
  },
  {
   "cell_type": "code",
   "execution_count": 39,
   "metadata": {
    "solution2": "hidden"
   },
   "outputs": [
    {
     "data": {
      "text/latex": [
       "$\\displaystyle \\left(x - 8\\right) \\left(x - 6\\right)$"
      ],
      "text/plain": [
       "(x - 8)*(x - 6)"
      ]
     },
     "execution_count": 39,
     "metadata": {},
     "output_type": "execute_result"
    }
   ],
   "source": [
    "factor(x**2-14*x+48)"
   ]
  },
  {
   "cell_type": "markdown",
   "metadata": {},
   "source": [
    ">99. $2x^2+5x+3$"
   ]
  },
  {
   "cell_type": "markdown",
   "metadata": {
    "solution2": "hidden",
    "solution2_first": true
   },
   "source": [
    "Respuesta"
   ]
  },
  {
   "cell_type": "code",
   "execution_count": 40,
   "metadata": {
    "solution2": "hidden"
   },
   "outputs": [
    {
     "data": {
      "text/latex": [
       "$\\displaystyle \\left(x + 1\\right) \\left(2 x + 3\\right)$"
      ],
      "text/plain": [
       "(x + 1)*(2*x + 3)"
      ]
     },
     "execution_count": 40,
     "metadata": {},
     "output_type": "execute_result"
    }
   ],
   "source": [
    "factor(2*x**2+5*x+3)"
   ]
  },
  {
   "cell_type": "markdown",
   "metadata": {},
   "source": [
    ">100. $2x^2+7x-4$"
   ]
  },
  {
   "cell_type": "markdown",
   "metadata": {
    "solution2": "hidden",
    "solution2_first": true
   },
   "source": [
    "Respuesta"
   ]
  },
  {
   "cell_type": "code",
   "execution_count": 41,
   "metadata": {
    "solution2": "hidden"
   },
   "outputs": [
    {
     "data": {
      "text/latex": [
       "$\\displaystyle \\left(x + 4\\right) \\left(2 x - 1\\right)$"
      ],
      "text/plain": [
       "(x + 4)*(2*x - 1)"
      ]
     },
     "execution_count": 41,
     "metadata": {},
     "output_type": "execute_result"
    }
   ],
   "source": [
    "factor(2*x**2+7*x-4)"
   ]
  },
  {
   "cell_type": "markdown",
   "metadata": {},
   "source": [
    ">101. $9x^2-36x-45$"
   ]
  },
  {
   "cell_type": "markdown",
   "metadata": {
    "solution2": "hidden",
    "solution2_first": true
   },
   "source": [
    "Respuesta"
   ]
  },
  {
   "cell_type": "code",
   "execution_count": 42,
   "metadata": {
    "solution2": "hidden"
   },
   "outputs": [
    {
     "data": {
      "text/latex": [
       "$\\displaystyle 9 \\left(x - 5\\right) \\left(x + 1\\right)$"
      ],
      "text/plain": [
       "9*(x - 5)*(x + 1)"
      ]
     },
     "execution_count": 42,
     "metadata": {},
     "output_type": "execute_result"
    }
   ],
   "source": [
    "factor(9*x**2-36*x-45)"
   ]
  },
  {
   "cell_type": "markdown",
   "metadata": {},
   "source": [
    ">102. $8x^2+10x+3$"
   ]
  },
  {
   "cell_type": "markdown",
   "metadata": {
    "solution2": "hidden",
    "solution2_first": true
   },
   "source": [
    "Respuesta"
   ]
  },
  {
   "cell_type": "code",
   "execution_count": 43,
   "metadata": {
    "solution2": "hidden"
   },
   "outputs": [
    {
     "data": {
      "text/latex": [
       "$\\displaystyle \\left(2 x + 1\\right) \\left(4 x + 3\\right)$"
      ],
      "text/plain": [
       "(2*x + 1)*(4*x + 3)"
      ]
     },
     "execution_count": 43,
     "metadata": {},
     "output_type": "execute_result"
    }
   ],
   "source": [
    "factor(8*x**2+10*x+3)"
   ]
  },
  {
   "cell_type": "markdown",
   "metadata": {},
   "source": [
    ">103. $49-4y^2$"
   ]
  },
  {
   "cell_type": "markdown",
   "metadata": {
    "solution2": "hidden",
    "solution2_first": true
   },
   "source": [
    "Respuesta"
   ]
  },
  {
   "cell_type": "code",
   "execution_count": 45,
   "metadata": {
    "solution2": "hidden"
   },
   "outputs": [
    {
     "data": {
      "text/latex": [
       "$\\displaystyle - \\left(2 y - 7\\right) \\left(2 y + 7\\right)$"
      ],
      "text/plain": [
       "-(2*y - 7)*(2*y + 7)"
      ]
     },
     "execution_count": 45,
     "metadata": {},
     "output_type": "execute_result"
    }
   ],
   "source": [
    "factor(49-4*y**2)"
   ]
  },
  {
   "cell_type": "markdown",
   "metadata": {},
   "source": [
    ">104. $4t^2-9s^2$"
   ]
  },
  {
   "cell_type": "markdown",
   "metadata": {
    "solution2": "hidden",
    "solution2_first": true
   },
   "source": [
    "Respuesta"
   ]
  },
  {
   "cell_type": "code",
   "execution_count": 48,
   "metadata": {
    "solution2": "hidden"
   },
   "outputs": [
    {
     "data": {
      "text/latex": [
       "$\\displaystyle - \\left(3 s - 2 t\\right) \\left(3 s + 2 t\\right)$"
      ],
      "text/plain": [
       "-(3*s - 2*t)*(3*s + 2*t)"
      ]
     },
     "execution_count": 48,
     "metadata": {},
     "output_type": "execute_result"
    }
   ],
   "source": [
    "factor(4*t**2-9*s**2)"
   ]
  },
  {
   "cell_type": "markdown",
   "metadata": {},
   "source": [
    ">105. $t^2-6t+9$"
   ]
  },
  {
   "cell_type": "markdown",
   "metadata": {
    "solution2": "hidden",
    "solution2_first": true
   },
   "source": [
    "Respuesta"
   ]
  },
  {
   "cell_type": "code",
   "execution_count": 49,
   "metadata": {
    "solution2": "hidden"
   },
   "outputs": [
    {
     "data": {
      "text/latex": [
       "$\\displaystyle \\left(t - 3\\right)^{2}$"
      ],
      "text/plain": [
       "(t - 3)**2"
      ]
     },
     "execution_count": 49,
     "metadata": {},
     "output_type": "execute_result"
    }
   ],
   "source": [
    "factor(t**2-6*t+9)"
   ]
  },
  {
   "cell_type": "markdown",
   "metadata": {},
   "source": [
    ">106. $x^2+10x+25$"
   ]
  },
  {
   "cell_type": "markdown",
   "metadata": {
    "solution2": "hidden",
    "solution2_first": true
   },
   "source": [
    "Respuesta"
   ]
  },
  {
   "cell_type": "code",
   "execution_count": 50,
   "metadata": {
    "solution2": "hidden"
   },
   "outputs": [
    {
     "data": {
      "text/latex": [
       "$\\displaystyle \\left(x + 5\\right)^{2}$"
      ],
      "text/plain": [
       "(x + 5)**2"
      ]
     },
     "execution_count": 50,
     "metadata": {},
     "output_type": "execute_result"
    }
   ],
   "source": [
    "factor(x**2+10*x+25)"
   ]
  },
  {
   "cell_type": "markdown",
   "metadata": {},
   "source": [
    ">107. $4x^2+4xy+y^2$"
   ]
  },
  {
   "cell_type": "markdown",
   "metadata": {
    "solution2": "hidden",
    "solution2_first": true
   },
   "source": [
    "Respuesta"
   ]
  },
  {
   "cell_type": "code",
   "execution_count": 51,
   "metadata": {
    "solution2": "hidden"
   },
   "outputs": [
    {
     "data": {
      "text/latex": [
       "$\\displaystyle \\left(2 x + y\\right)^{2}$"
      ],
      "text/plain": [
       "(2*x + y)**2"
      ]
     },
     "execution_count": 51,
     "metadata": {},
     "output_type": "execute_result"
    }
   ],
   "source": [
    "factor(4*x**2+4*x*y+y**2)"
   ]
  },
  {
   "cell_type": "markdown",
   "metadata": {},
   "source": [
    ">108. $r^2-6rs+9s^2$"
   ]
  },
  {
   "cell_type": "markdown",
   "metadata": {
    "solution2": "hidden",
    "solution2_first": true
   },
   "source": [
    "Respuesta"
   ]
  },
  {
   "cell_type": "code",
   "execution_count": 54,
   "metadata": {
    "solution2": "hidden"
   },
   "outputs": [
    {
     "data": {
      "text/latex": [
       "$\\displaystyle \\left(r - 3 s\\right)^{2}$"
      ],
      "text/plain": [
       "(r - 3*s)**2"
      ]
     },
     "execution_count": 54,
     "metadata": {},
     "output_type": "execute_result"
    }
   ],
   "source": [
    "factor(r**2-6*r*s+9*s**2)"
   ]
  },
  {
   "attachments": {
    "poda.PNG": {
     "image/png": "[encoded data removed]"
    }
   },
   "cell_type": "markdown",
   "metadata": {},
   "source": [
    "> __Problema__ _Podar un campo_, Cada semana, un campo cuadrado de cierto parque estatal es podado alrededor de los bordes. El resto del campo se mantiene sin podar para que sirva como hábitat para aves y animales pequeños (vea la figura). El campo mide $b$ pies por $b$ pies, y la franja podada es de x pies de ancho.<br>\n",
    "> 1. Explique por qué el área de la parte podada es $b^2-(b-2x)^2$.<br>\n",
    "> 2. Factorice la expresión de la parte (a) para demostrar que el área de la parte podada también es $4x(b-x)$.\n",
    "![poda.PNG](attachment:poda.PNG)"
   ]
  },
  {
   "cell_type": "markdown",
   "metadata": {
    "solution2": "hidden",
    "solution2_first": true
   },
   "source": [
    "> Respuesta"
   ]
  },
  {
   "cell_type": "code",
   "execution_count": 7,
   "metadata": {},
   "outputs": [
    {
     "data": {
      "text/latex": [
       "$\\displaystyle 2$"
      ],
      "text/plain": [
       "2"
      ]
     },
     "execution_count": 7,
     "metadata": {},
     "output_type": "execute_result"
    }
   ],
   "source": [
    "expresion = limit(3*x**2/x+2,x,0,'+')\n",
    "expresion"
   ]
  },
  {
   "cell_type": "markdown",
   "metadata": {
    "solution2": "shown"
   },
   "source": [
    "> 1.  Si el área de todo el cuadrado es $b^2$, a esta le debemos restar la parte que no esta podada cuya área es: $(b-2x)^2$\n",
    ">2. Factorizando $b^2-(b-2x)^2$ tenemos (caso 1, diferencia de cuadrados):<br>\n",
    ">Raíz del primer factor: $\\sqrt{b^2}=b$<br>\n",
    ">Raíz del segundo factor: $\\sqrt{(b-2x)^2}=(b-2x)$, por lo tanto:<br>\n",
    ">$$=(b+(b-2x))(b-(b-2x))$$\n",
    ">$$=(2b-2x)(2x)$$\n",
    ">$$=4bx-4x^2$$\n",
    ">$$=4x(b-x)$$\n",
    ">Comprobación"
   ]
  },
  {
   "cell_type": "code",
   "execution_count": 55,
   "metadata": {
    "solution2": "shown"
   },
   "outputs": [
    {
     "data": {
      "text/latex": [
       "$\\displaystyle - 4 x \\left(- b + x\\right)$"
      ],
      "text/plain": [
       "-4*x*(-b + x)"
      ]
     },
     "execution_count": 55,
     "metadata": {},
     "output_type": "execute_result"
    }
   ],
   "source": [
    "factor(b**2-(b-2*x)**2)"
   ]
  }
 ],
 "metadata": {
  "hide_input": false,
  "kernelspec": {
   "display_name": "Python 3",
   "language": "python",
   "name": "python3"
  },
  "language_info": {
   "codemirror_mode": {
    "name": "ipython",
    "version": 3
   },
   "file_extension": ".py",
   "mimetype": "text/x-python",
   "name": "python",
   "nbconvert_exporter": "python",
   "pygments_lexer": "ipython3",
   "version": "3.7.3"
  }
 },
 "nbformat": 4,
 "nbformat_minor": 2
}
